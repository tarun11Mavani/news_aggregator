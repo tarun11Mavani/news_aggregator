{
 "cells": [
  {
   "cell_type": "code",
   "execution_count": 173,
   "metadata": {},
   "outputs": [],
   "source": [
    "import pandas as p\n",
    "import re\n",
    "import glob\n",
    "import os\n",
    "from collections import Counter\n",
    "import math;\n",
    "import sys\n",
    "import operator\n",
    "import collections \n",
    "from operator import itemgetter\n",
    "from heapq import nlargest"
   ]
  },
  {
   "cell_type": "code",
   "execution_count": 217,
   "metadata": {},
   "outputs": [],
   "source": [
    "path = os.getcwd();\n",
    "def readIDFscore():\n",
    "    filename = path+'/'+\"IDF-score\"\n",
    "    dict = {};\n",
    "    with open(filename, errors = 'ignore') as f:\n",
    "        for line in f:\n",
    "            s = re.sub(' +', '', line).strip().split('\\t');\n",
    "            if(len(s[0]) > 3 or float(s[1]) < 5):\n",
    "                dict[s[0]] = s[1];\n",
    "    return dict;"
   ]
  },
  {
   "cell_type": "code",
   "execution_count": 218,
   "metadata": {},
   "outputs": [],
   "source": [
    "dict = readIDFscore();\n",
    "#path = \"/media/tarun/Local Disk/Study/Sem6/SEN/\"\n",
    "articles = 20000;"
   ]
  },
  {
   "cell_type": "code",
   "execution_count": 219,
   "metadata": {},
   "outputs": [],
   "source": [
    "def computeTF(filename):\n",
    "    data = [];\n",
    "    n = 0;\n",
    "    with open(path+'/'+filename, errors = 'ignore') as f:\n",
    "        for line in f:\n",
    "            s = re.sub(' +', ' ', line).split(' ');\n",
    "            for i in s:\n",
    "                i = re.sub(r'[^a-zA-Z0-9 ]',r'',i)\n",
    "                data.append(i.lower());\n",
    "                n = n+1;\n",
    "    count = Counter(data);\n",
    "    for word in count:\n",
    "        count[word] = count[word]/n;\n",
    "    return count;"
   ]
  },
  {
   "cell_type": "markdown",
   "metadata": {},
   "source": [
    "print(computeTF('1'));\n"
   ]
  },
  {
   "cell_type": "code",
   "execution_count": 220,
   "metadata": {},
   "outputs": [],
   "source": [
    "article_count = computeTF('test');"
   ]
  },
  {
   "cell_type": "code",
   "execution_count": 221,
   "metadata": {},
   "outputs": [],
   "source": [
    "def TFIDF(dict, count):\n",
    "    tfidf = {};\n",
    "    for word in count:\n",
    "        if word in dict.keys() and float(dict[word])!= 0:\n",
    "          #  print(word, ' ', dict[word]);\n",
    "            tfidf[word] = count[word] *(float(dict[word]));\n",
    "    return tfidf;  "
   ]
  },
  {
   "cell_type": "code",
   "execution_count": 222,
   "metadata": {},
   "outputs": [],
   "source": [
    "tfidf_score = TFIDF(dict, article_count);\n",
    "tags = nlargest(10, tfidf_score, key=tfidf_score.get)"
   ]
  },
  {
   "cell_type": "code",
   "execution_count": 223,
   "metadata": {},
   "outputs": [
    {
     "data": {
      "text/plain": [
       "['startups',\n",
       " 'angel',\n",
       " 'tax',\n",
       " 'said',\n",
       " 'will',\n",
       " 'meeting',\n",
       " 'investor',\n",
       " 'companies',\n",
       " 'startup',\n",
       " '2216']"
      ]
     },
     "execution_count": 223,
     "metadata": {},
     "output_type": "execute_result"
    }
   ],
   "source": [
    "tags"
   ]
  },
  {
   "cell_type": "code",
   "execution_count": null,
   "metadata": {},
   "outputs": [],
   "source": []
  },
  {
   "cell_type": "code",
   "execution_count": null,
   "metadata": {},
   "outputs": [],
   "source": []
  },
  {
   "cell_type": "code",
   "execution_count": null,
   "metadata": {},
   "outputs": [],
   "source": []
  }
 ],
 "metadata": {
  "kernelspec": {
   "display_name": "Python 3",
   "language": "python",
   "name": "python3"
  },
  "language_info": {
   "codemirror_mode": {
    "name": "ipython",
    "version": 3
   },
   "file_extension": ".py",
   "mimetype": "text/x-python",
   "name": "python",
   "nbconvert_exporter": "python",
   "pygments_lexer": "ipython3",
   "version": "3.6.5"
  }
 },
 "nbformat": 4,
 "nbformat_minor": 2
}
